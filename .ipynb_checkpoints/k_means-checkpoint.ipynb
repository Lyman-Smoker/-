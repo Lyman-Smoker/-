{
 "cells": [
  {
   "cell_type": "code",
   "execution_count": 1,
   "metadata": {},
   "outputs": [],
   "source": [
    "import numpy as np\n",
    "import random"
   ]
  },
  {
   "cell_type": "code",
   "execution_count": 3,
   "metadata": {},
   "outputs": [],
   "source": [
    "# 生成数据点集\n",
    "def getData(n):\n",
    "    dataset = np.random.randint(0,20,(n,2))\n",
    "    original_cluster=np.full((n,1),-1)\n",
    "    dataset=np.append(dataset,original_cluster,axis=1)\n",
    "    return dataset\n",
    "\n",
    "# 两点距离\n",
    "def distance(p1,p2):\n",
    "    return np.sqrt((p1[0]-p2[0])**2+(p1[1]-p2[1])**2)\n",
    "\n",
    "# 获取初始簇心\n",
    "def randCenter(dataset,k):\n",
    "    K_center = np.array([])\n",
    "    centerList = random.sample(range(0,20),k)\n",
    "    # print('centerList',centerList)\n",
    "    for i in range(0,len(centerList)):\n",
    "        dataset[centerList[i],2] = i\n",
    "        if i==0:\n",
    "            K_center = np.array([dataset[centerList[i],:2]])\n",
    "        else:\n",
    "            K_center = np.append(K_center, np.array([dataset[centerList[i],:2]]), axis=0)\n",
    "    return K_center\n",
    "\n",
    "# K-means算法实现\n",
    "def kMeans(dataset,k):\n",
    "    centerList = randCenter(dataset,k)\n",
    "    center_change = True\n",
    "    distance_List = np.full((1,3),-1)\n",
    "    count = 0\n",
    "    while center_change:\n",
    "        count+=1\n",
    "        print('第',count,'次训练')\n",
    "        center_change = False\n",
    "        # 更新簇\n",
    "        for point in range(0,len(dataset)):\n",
    "            for i in range(0,len(centerList)):\n",
    "                distance_List[0,i] = distance(dataset[point],centerList[i])\n",
    "            minIndex = np.argmin(distance_List)\n",
    "            dataset[point][2] = minIndex\n",
    "\n",
    "        # 重新计算簇心\n",
    "        for i in range(0,k):\n",
    "            xSum=0\n",
    "            ySum=0\n",
    "            psum=0\n",
    "            for point in dataset:\n",
    "                if point[2] == i:\n",
    "                    xSum += point[0]\n",
    "                    ySum += point[1]\n",
    "                    psum += 1\n",
    "            xAve = int(xSum / psum)\n",
    "            yAve = int(ySum / psum)\n",
    "            newCenter = np.array([xAve,yAve])\n",
    "            if (newCenter != centerList[i]).all():\n",
    "                center_change = True\n",
    "            centerList[i] = newCenter\n",
    "    return dataset"
   ]
  },
  {
   "cell_type": "code",
   "execution_count": 4,
   "metadata": {},
   "outputs": [
    {
     "data": {
      "text/plain": [
       "array([[12, 11, -1],\n",
       "       [12, 11, -1],\n",
       "       [12,  9, -1],\n",
       "       [ 3, 16, -1],\n",
       "       [ 2, 16, -1],\n",
       "       [14, 12, -1],\n",
       "       [ 8, 15, -1],\n",
       "       [ 8, 18, -1],\n",
       "       [15, 11, -1],\n",
       "       [15, 12, -1],\n",
       "       [13,  6, -1],\n",
       "       [17,  9, -1],\n",
       "       [13, 18, -1],\n",
       "       [ 6, 10, -1],\n",
       "       [13,  7, -1],\n",
       "       [15,  0, -1],\n",
       "       [ 2, 10, -1],\n",
       "       [ 2, 15, -1],\n",
       "       [ 3, 11, -1],\n",
       "       [19,  6, -1]])"
      ]
     },
     "execution_count": 4,
     "metadata": {},
     "output_type": "execute_result"
    }
   ],
   "source": [
    "data=getData(20)\n",
    "# 显示初始数据集，最后一列为labels\n",
    "data"
   ]
  },
  {
   "cell_type": "code",
   "execution_count": 5,
   "metadata": {},
   "outputs": [
    {
     "data": {
      "text/plain": [
       "array([[ 8, 18],\n",
       "       [ 3, 11],\n",
       "       [ 2, 15]])"
      ]
     },
     "execution_count": 5,
     "metadata": {},
     "output_type": "execute_result"
    }
   ],
   "source": [
    "centerList = randCenter(data,3)\n",
    "# 准备将数据分成三簇，展示初始簇心\n",
    "centerList"
   ]
  },
  {
   "cell_type": "code",
   "execution_count": 6,
   "metadata": {},
   "outputs": [
    {
     "name": "stdout",
     "output_type": "stream",
     "text": [
      "第 1 次训练\n",
      "第 2 次训练\n",
      "第 3 次训练\n",
      "第 4 次训练\n"
     ]
    },
    {
     "data": {
      "text/plain": [
       "array([[12, 11,  1],\n",
       "       [12, 11,  1],\n",
       "       [12,  9,  1],\n",
       "       [ 3, 16,  2],\n",
       "       [ 2, 16,  2],\n",
       "       [14, 12,  1],\n",
       "       [ 8, 15,  2],\n",
       "       [ 8, 18,  2],\n",
       "       [15, 11,  1],\n",
       "       [15, 12,  1],\n",
       "       [13,  6,  0],\n",
       "       [17,  9,  1],\n",
       "       [13, 18,  1],\n",
       "       [ 6, 10,  2],\n",
       "       [13,  7,  0],\n",
       "       [15,  0,  0],\n",
       "       [ 2, 10,  2],\n",
       "       [ 2, 15,  2],\n",
       "       [ 3, 11,  2],\n",
       "       [19,  6,  0]])"
      ]
     },
     "execution_count": 6,
     "metadata": {},
     "output_type": "execute_result"
    }
   ],
   "source": [
    "trained_dataset=kMeans(data,3)\n",
    "# 显示训练好的数据\n",
    "trained_dataset"
   ]
  },
  {
   "cell_type": "code",
   "execution_count": 7,
   "metadata": {},
   "outputs": [
    {
     "data": {
      "text/plain": [
       "[[12, 11, 1],\n",
       " [12, 11, 1],\n",
       " [12, 9, 1],\n",
       " [3, 16, 2],\n",
       " [2, 16, 2],\n",
       " [14, 12, 1],\n",
       " [8, 15, 2],\n",
       " [8, 18, 2],\n",
       " [15, 11, 1],\n",
       " [15, 12, 1],\n",
       " [13, 6, 0],\n",
       " [17, 9, 1],\n",
       " [13, 18, 1],\n",
       " [6, 10, 2],\n",
       " [13, 7, 0],\n",
       " [15, 0, 0],\n",
       " [2, 10, 2],\n",
       " [2, 15, 2],\n",
       " [3, 11, 2],\n",
       " [19, 6, 0]]"
      ]
     },
     "execution_count": 7,
     "metadata": {},
     "output_type": "execute_result"
    }
   ],
   "source": [
    "res = (trained_dataset[:,:]).tolist()\n",
    "res"
   ]
  },
  {
   "cell_type": "code",
   "execution_count": 9,
   "metadata": {},
   "outputs": [],
   "source": [
    "import pyecharts.options as opts\n",
    "from pyecharts.charts import Scatter"
   ]
  },
  {
   "cell_type": "code",
   "execution_count": 10,
   "metadata": {},
   "outputs": [],
   "source": [
    "%matplotlib inline\n",
    "import matplotlib.pyplot as plt"
   ]
  },
  {
   "cell_type": "code",
   "execution_count": 11,
   "metadata": {},
   "outputs": [],
   "source": [
    "plt.style.use('seaborn-whitegrid')"
   ]
  },
  {
   "cell_type": "code",
   "execution_count": 12,
   "metadata": {},
   "outputs": [
    {
     "data": {
      "image/png": "[encoded data removed]",
      "text/plain": [
       "<Figure size 432x288 with 1 Axes>"
      ]
     },
     "metadata": {},
     "output_type": "display_data"
    }
   ],
   "source": [
    "fig=plt.figure()\n",
    "ax=plt.axes()\n",
    "plt.show()"
   ]
  },
  {
   "cell_type": "code",
   "execution_count": 27,
   "metadata": {},
   "outputs": [
    {
     "data": {
      "text/plain": [
       "array([[12, 11,  1],\n",
       "       [12, 11,  1],\n",
       "       [12,  9,  1],\n",
       "       [ 3, 16,  2],\n",
       "       [ 2, 16,  2],\n",
       "       [14, 12,  1],\n",
       "       [ 8, 15,  2],\n",
       "       [ 8, 18,  2],\n",
       "       [15, 11,  1],\n",
       "       [15, 12,  1],\n",
       "       [13,  6,  0],\n",
       "       [17,  9,  1],\n",
       "       [13, 18,  1],\n",
       "       [ 6, 10,  2],\n",
       "       [13,  7,  0],\n",
       "       [15,  0,  0],\n",
       "       [ 2, 10,  2],\n",
       "       [ 2, 15,  2],\n",
       "       [ 3, 11,  2],\n",
       "       [19,  6,  0]])"
      ]
     },
     "execution_count": 27,
     "metadata": {},
     "output_type": "execute_result"
    }
   ],
   "source": [
    "data=np.array(data)\n",
    "data"
   ]
  },
  {
   "cell_type": "code",
   "execution_count": 30,
   "metadata": {},
   "outputs": [
    {
     "data": {
      "text/plain": [
       "array([11, 11,  9, 16, 16, 12, 15, 18, 11, 12,  6,  9, 18, 10,  7,  0, 10,\n",
       "       15, 11,  6])"
      ]
     },
     "execution_count": 30,
     "metadata": {},
     "output_type": "execute_result"
    }
   ],
   "source": [
    "data[:,1]"
   ]
  },
  {
   "cell_type": "code",
   "execution_count": 32,
   "metadata": {},
   "outputs": [
    {
     "data": {
      "text/plain": [
       "[<matplotlib.lines.Line2D at 0x1ce32049e08>]"
      ]
     },
     "execution_count": 32,
     "metadata": {},
     "output_type": "execute_result"
    },
    {
     "data": {
      "image/png": "[encoded data removed]",
      "text/plain": [
       "<Figure size 432x288 with 1 Axes>"
      ]
     },
     "metadata": {},
     "output_type": "display_data"
    }
   ],
   "source": [
    "x_original=data[:,0]\n",
    "y_original=data[:,1]\n",
    "plt.plot(x_original,y_original,'o',color='red')"
   ]
  },
  {
   "cell_type": "code",
   "execution_count": 34,
   "metadata": {
    "collapsed": true
   },
   "outputs": [
    {
     "data": {
      "text/plain": [
       "[[12, 11, 1],\n",
       " [12, 11, 1],\n",
       " [12, 9, 1],\n",
       " [3, 16, 2],\n",
       " [2, 16, 2],\n",
       " [14, 12, 1],\n",
       " [8, 15, 2],\n",
       " [8, 18, 2],\n",
       " [15, 11, 1],\n",
       " [15, 12, 1],\n",
       " [13, 6, 0],\n",
       " [17, 9, 1],\n",
       " [13, 18, 1],\n",
       " [6, 10, 2],\n",
       " [13, 7, 0],\n",
       " [15, 0, 0],\n",
       " [2, 10, 2],\n",
       " [2, 15, 2],\n",
       " [3, 11, 2],\n",
       " [19, 6, 0]]"
      ]
     },
     "execution_count": 34,
     "metadata": {},
     "output_type": "execute_result"
    }
   ],
   "source": [
    "res"
   ]
  },
  {
   "cell_type": "code",
   "execution_count": 36,
   "metadata": {},
   "outputs": [],
   "source": [
    "res=np.array(res)"
   ]
  },
  {
   "cell_type": "code",
   "execution_count": 38,
   "metadata": {
    "collapsed": true
   },
   "outputs": [
    {
     "data": {
      "text/plain": [
       "array([[12, 11,  1],\n",
       "       [12, 11,  1],\n",
       "       [12,  9,  1],\n",
       "       [ 3, 16,  2],\n",
       "       [ 2, 16,  2],\n",
       "       [14, 12,  1],\n",
       "       [ 8, 15,  2],\n",
       "       [ 8, 18,  2],\n",
       "       [15, 11,  1],\n",
       "       [15, 12,  1],\n",
       "       [13,  6,  0],\n",
       "       [17,  9,  1],\n",
       "       [13, 18,  1],\n",
       "       [ 6, 10,  2],\n",
       "       [13,  7,  0],\n",
       "       [15,  0,  0],\n",
       "       [ 2, 10,  2],\n",
       "       [ 2, 15,  2],\n",
       "       [ 3, 11,  2],\n",
       "       [19,  6,  0]])"
      ]
     },
     "execution_count": 38,
     "metadata": {},
     "output_type": "execute_result"
    }
   ],
   "source": [
    "res"
   ]
  },
  {
   "cell_type": "code",
   "execution_count": 41,
   "metadata": {},
   "outputs": [
    {
     "name": "stdout",
     "output_type": "stream",
     "text": [
      "[12 11  1]\n",
      "[12 11  1]\n",
      "[12  9  1]\n",
      "[ 3 16  2]\n",
      "[ 2 16  2]\n",
      "[14 12  1]\n",
      "[ 8 15  2]\n",
      "[ 8 18  2]\n",
      "[15 11  1]\n",
      "[15 12  1]\n",
      "[13  6  0]\n",
      "[17  9  1]\n",
      "[13 18  1]\n",
      "[ 6 10  2]\n",
      "[13  7  0]\n",
      "[15  0  0]\n",
      "[ 2 10  2]\n",
      "[ 2 15  2]\n",
      "[ 3 11  2]\n",
      "[19  6  0]\n"
     ]
    }
   ],
   "source": [
    "for i in res:\n",
    "    print(i)"
   ]
  },
  {
   "cell_type": "code",
   "execution_count": 53,
   "metadata": {},
   "outputs": [
    {
     "data": {
      "text/plain": [
       "array([13, 13, 15, 19])"
      ]
     },
     "execution_count": 53,
     "metadata": {},
     "output_type": "execute_result"
    }
   ],
   "source": [
    "data0=[]\n",
    "for i in res:\n",
    "        if i[2]==0:\n",
    "            data0.append(i.tolist())\n",
    "np.array(data0)[:,0]"
   ]
  },
  {
   "cell_type": "code",
   "execution_count": 55,
   "metadata": {},
   "outputs": [
    {
     "data": {
      "image/png": "[encoded data removed]",
      "text/plain": [
       "<Figure size 432x288 with 1 Axes>"
      ]
     },
     "metadata": {
      "needs_background": "light"
     },
     "output_type": "display_data"
    }
   ],
   "source": [
    "def view_plt(res):\n",
    "    data0=[]\n",
    "    data1=[]\n",
    "    data2=[]\n",
    "    for i in res:\n",
    "        i=i.tolist()\n",
    "        if i[2]==0:\n",
    "            data0.append(i)\n",
    "        elif i[2]==1:\n",
    "            data1.append(i)\n",
    "        else:\n",
    "            data2.append(i)\n",
    "    \n",
    "    data0=np.array(data0)\n",
    "    data2=np.array(data2)\n",
    "    data1=np.array(data1)\n",
    "    x1=data1[:,0]\n",
    "    y1=data1[:,1]\n",
    "    \n",
    "    plt.plot(x1,y1,'o',color='red')\n",
    "    x0=data0[:,0]\n",
    "    y0=data0[:,1]\n",
    "    plt.plot(x0,y0,'o',color='blue')\n",
    "    x2=data2[:,0]\n",
    "    y2=data2[:,1]\n",
    "    plt.plot(x2,y2,'o',color='black')\n",
    "    \n",
    "%matplotlib inline  \n",
    "view_plt(res)\n"
   ]
  }
 ],
 "metadata": {
  "kernelspec": {
   "display_name": "Python 3",
   "language": "python",
   "name": "python3"
  },
  "language_info": {
   "codemirror_mode": {
    "name": "ipython",
    "version": 3
   },
   "file_extension": ".py",
   "mimetype": "text/x-python",
   "name": "python",
   "nbconvert_exporter": "python",
   "pygments_lexer": "ipython3",
   "version": "3.7.7"
  }
 },
 "nbformat": 4,
 "nbformat_minor": 4
}
